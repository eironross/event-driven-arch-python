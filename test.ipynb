{
 "cells": [
  {
   "cell_type": "code",
   "execution_count": 15,
   "id": "7cfe23df",
   "metadata": {},
   "outputs": [],
   "source": [
    "# Event Bus\n",
    "class EventBus:\n",
    "    subscribers = {}\n",
    "\n",
    "    @classmethod\n",
    "    def subscribe(cls, event_type, subscriber):\n",
    "        if event_type not in cls.subscribers:\n",
    "            cls.subscribers[event_type] = []\n",
    "        cls.subscribers[event_type].append(subscriber)\n",
    "\n",
    "    @classmethod\n",
    "    def publish(cls, event_type, data=None):\n",
    "        if event_type in cls.subscribers:\n",
    "            for subscriber in cls.subscribers[event_type]:\n",
    "                subscriber.handle_event(event_type, data)\n",
    "\n",
    "\n",
    "# Event Subscriber\n",
    "class OrderNotificationSubscriber:\n",
    "    def handle_event(self, event_type, data=None):\n",
    "        if event_type == 'OrderPlaced':\n",
    "            print(\"Notification: Your order with ID {} has been placed!\".format(data['order_id']))\n",
    "\n",
    "class OrderNotificationReporter:\n",
    "    def handle_event(self, event_type, data=None):\n",
    "        if event_type == 'OrderReport':\n",
    "            print(\"Report: Your order with ID {} has been placed!\".format(data['order_id']))\n",
    "        return None\n",
    "\n",
    "\n",
    "# Event Publisher\n",
    "class OrderService:\n",
    "    def place_order(self, order_id):\n",
    "        # Order placement logic here\n",
    "        # ...\n",
    "\n",
    "        # Notify subscribers about the order placement\n",
    "        EventBus.publish('OrderPlaced', {'order_id': order_id})\n",
    "        \n",
    "# Event Publisher\n",
    "class OrderReport:\n",
    "    def place_order(self, order_id):\n",
    "        # Order placement logic here\n",
    "        # ...\n",
    "\n",
    "        # Notify subscribers about the order placement\n",
    "        EventBus.publish('OrderReport', {'order_id': order_id})\n",
    "\n",
    "\n",
    "# Example Usage\n",
    "if __name__ == \"__main__\":\n",
    "    # Creating instances\n",
    "    order_notification_subscriber = OrderNotificationSubscriber()\n",
    "    report_notif_sub = OrderNotificationReporter()\n",
    "    report_notif = OrderReport()\n",
    "    order_service = OrderService()\n",
    "\n",
    "    # Subscribing the subscriber to the 'OrderPlaced' event\n",
    "    EventBus.subscribe('OrderPlaced', order_notification_subscriber)\n",
    "    EventBus.subscribe('OrderReport', report_notif_sub)"
   ]
  },
  {
   "cell_type": "code",
   "execution_count": 16,
   "id": "eaf88120",
   "metadata": {},
   "outputs": [
    {
     "name": "stdout",
     "output_type": "stream",
     "text": [
      "Report: Your order with ID 123 has been placed!\n"
     ]
    }
   ],
   "source": [
    "report_notif.place_order(order_id=123)"
   ]
  },
  {
   "cell_type": "code",
   "execution_count": 5,
   "id": "76b72a46",
   "metadata": {},
   "outputs": [
    {
     "name": "stdout",
     "output_type": "stream",
     "text": [
      "Notification: Your order with ID 123 has been placed!\n",
      "Notification: Your order with ID 124 has been placed!\n",
      "Notification: Your order with ID 125 has been placed!\n"
     ]
    }
   ],
   "source": [
    "order_service.place_order(order_id=123)\n",
    "order_service.place_order(order_id=124)\n",
    "order_service.place_order(order_id=125)"
   ]
  },
  {
   "cell_type": "code",
   "execution_count": 6,
   "id": "890920eb",
   "metadata": {},
   "outputs": [
    {
     "data": {
      "text/plain": [
       "{'OrderPlaced': [<__main__.OrderNotificationSubscriber at 0x1adb7b97910>],\n",
       " 'OrderReport': [<__main__.OrderNotificationReporter at 0x1adb7b97a00>]}"
      ]
     },
     "execution_count": 6,
     "metadata": {},
     "output_type": "execute_result"
    }
   ],
   "source": [
    "EventBus.subscribers"
   ]
  }
 ],
 "metadata": {
  "kernelspec": {
   "display_name": ".venv",
   "language": "python",
   "name": "python3"
  },
  "language_info": {
   "codemirror_mode": {
    "name": "ipython",
    "version": 3
   },
   "file_extension": ".py",
   "mimetype": "text/x-python",
   "name": "python",
   "nbconvert_exporter": "python",
   "pygments_lexer": "ipython3",
   "version": "3.10.0"
  }
 },
 "nbformat": 4,
 "nbformat_minor": 5
}
